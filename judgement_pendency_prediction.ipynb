{
  "cells": [
    {
      "cell_type": "markdown",
      "metadata": {
        "id": "DWrpAu9iHU1Z"
      },
      "source": [
        "<h1> Judgement Pendency Prediction <h1>\n",
        "\n",
        "\n",
        "The data used in this file is an abridged version of the dataset [available here](https://www.devdatalab.org/judicial-data) based on the work of [Bhowmik et. al. (2021)](https://dl.acm.org/doi/abs/10.1145/3460112.3471943). The cleaned up and abrdiged dataset with license terms used in this code can be downloaded at https://drive.google.com/file/d/1aQcfZTi2GFdyod8bFYi0VEGqX6mUUhJ4/view?usp=drive_link\n"
      ]
    },
    {
      "cell_type": "markdown",
      "metadata": {
        "id": "ndIpGKhuSQbX"
      },
      "source": [
        "## Import of libraries & dataset"
      ]
    },
    {
      "cell_type": "markdown",
      "metadata": {
        "id": "ax44AOpvAwfu"
      },
      "source": [
        "### Import Libraries"
      ]
    },
    {
      "cell_type": "code",
      "execution_count": null,
      "metadata": {
        "colab": {
          "base_uri": "https://localhost:8080/"
        },
        "id": "DxF-C27TlUY3",
        "outputId": "0ed19560-4413-4d6e-ca21-2db012399dab"
      },
      "outputs": [
        {
          "output_type": "stream",
          "name": "stdout",
          "text": [
            "Requirement already satisfied: seaborn in /usr/local/lib/python3.10/dist-packages (0.13.1)\n",
            "Requirement already satisfied: numpy!=1.24.0,>=1.20 in /usr/local/lib/python3.10/dist-packages (from seaborn) (1.25.2)\n",
            "Requirement already satisfied: pandas>=1.2 in /usr/local/lib/python3.10/dist-packages (from seaborn) (2.0.3)\n",
            "Requirement already satisfied: matplotlib!=3.6.1,>=3.4 in /usr/local/lib/python3.10/dist-packages (from seaborn) (3.7.1)\n",
            "Requirement already satisfied: contourpy>=1.0.1 in /usr/local/lib/python3.10/dist-packages (from matplotlib!=3.6.1,>=3.4->seaborn) (1.2.1)\n",
            "Requirement already satisfied: cycler>=0.10 in /usr/local/lib/python3.10/dist-packages (from matplotlib!=3.6.1,>=3.4->seaborn) (0.12.1)\n",
            "Requirement already satisfied: fonttools>=4.22.0 in /usr/local/lib/python3.10/dist-packages (from matplotlib!=3.6.1,>=3.4->seaborn) (4.53.0)\n",
            "Requirement already satisfied: kiwisolver>=1.0.1 in /usr/local/lib/python3.10/dist-packages (from matplotlib!=3.6.1,>=3.4->seaborn) (1.4.5)\n",
            "Requirement already satisfied: packaging>=20.0 in /usr/local/lib/python3.10/dist-packages (from matplotlib!=3.6.1,>=3.4->seaborn) (24.1)\n",
            "Requirement already satisfied: pillow>=6.2.0 in /usr/local/lib/python3.10/dist-packages (from matplotlib!=3.6.1,>=3.4->seaborn) (9.4.0)\n",
            "Requirement already satisfied: pyparsing>=2.3.1 in /usr/local/lib/python3.10/dist-packages (from matplotlib!=3.6.1,>=3.4->seaborn) (3.1.2)\n",
            "Requirement already satisfied: python-dateutil>=2.7 in /usr/local/lib/python3.10/dist-packages (from matplotlib!=3.6.1,>=3.4->seaborn) (2.8.2)\n",
            "Requirement already satisfied: pytz>=2020.1 in /usr/local/lib/python3.10/dist-packages (from pandas>=1.2->seaborn) (2023.4)\n",
            "Requirement already satisfied: tzdata>=2022.1 in /usr/local/lib/python3.10/dist-packages (from pandas>=1.2->seaborn) (2024.1)\n",
            "Requirement already satisfied: six>=1.5 in /usr/local/lib/python3.10/dist-packages (from python-dateutil>=2.7->matplotlib!=3.6.1,>=3.4->seaborn) (1.16.0)\n"
          ]
        }
      ],
      "source": [
        "!pip install seaborn"
      ]
    },
    {
      "cell_type": "code",
      "execution_count": null,
      "metadata": {
        "colab": {
          "base_uri": "https://localhost:8080/"
        },
        "id": "wM2EJEpblUY4",
        "outputId": "b9aea6e1-22e2-4839-a3db-b94e3570283c"
      },
      "outputs": [
        {
          "output_type": "stream",
          "name": "stdout",
          "text": [
            "Requirement already satisfied: matplotlib in /usr/local/lib/python3.10/dist-packages (3.7.1)\n",
            "Requirement already satisfied: contourpy>=1.0.1 in /usr/local/lib/python3.10/dist-packages (from matplotlib) (1.2.1)\n",
            "Requirement already satisfied: cycler>=0.10 in /usr/local/lib/python3.10/dist-packages (from matplotlib) (0.12.1)\n",
            "Requirement already satisfied: fonttools>=4.22.0 in /usr/local/lib/python3.10/dist-packages (from matplotlib) (4.53.0)\n",
            "Requirement already satisfied: kiwisolver>=1.0.1 in /usr/local/lib/python3.10/dist-packages (from matplotlib) (1.4.5)\n",
            "Requirement already satisfied: numpy>=1.20 in /usr/local/lib/python3.10/dist-packages (from matplotlib) (1.25.2)\n",
            "Requirement already satisfied: packaging>=20.0 in /usr/local/lib/python3.10/dist-packages (from matplotlib) (24.1)\n",
            "Requirement already satisfied: pillow>=6.2.0 in /usr/local/lib/python3.10/dist-packages (from matplotlib) (9.4.0)\n",
            "Requirement already satisfied: pyparsing>=2.3.1 in /usr/local/lib/python3.10/dist-packages (from matplotlib) (3.1.2)\n",
            "Requirement already satisfied: python-dateutil>=2.7 in /usr/local/lib/python3.10/dist-packages (from matplotlib) (2.8.2)\n",
            "Requirement already satisfied: six>=1.5 in /usr/local/lib/python3.10/dist-packages (from python-dateutil>=2.7->matplotlib) (1.16.0)\n"
          ]
        }
      ],
      "source": [
        "!pip install matplotlib"
      ]
    },
    {
      "cell_type": "code",
      "execution_count": null,
      "metadata": {
        "colab": {
          "base_uri": "https://localhost:8080/"
        },
        "id": "GIncbONMlUY4",
        "outputId": "260f0855-9fd1-4d66-985a-195307cd6a2a"
      },
      "outputs": [
        {
          "output_type": "stream",
          "name": "stdout",
          "text": [
            "Requirement already satisfied: pandas in /usr/local/lib/python3.10/dist-packages (2.0.3)\n",
            "Requirement already satisfied: python-dateutil>=2.8.2 in /usr/local/lib/python3.10/dist-packages (from pandas) (2.8.2)\n",
            "Requirement already satisfied: pytz>=2020.1 in /usr/local/lib/python3.10/dist-packages (from pandas) (2023.4)\n",
            "Requirement already satisfied: tzdata>=2022.1 in /usr/local/lib/python3.10/dist-packages (from pandas) (2024.1)\n",
            "Requirement already satisfied: numpy>=1.21.0 in /usr/local/lib/python3.10/dist-packages (from pandas) (1.25.2)\n",
            "Requirement already satisfied: six>=1.5 in /usr/local/lib/python3.10/dist-packages (from python-dateutil>=2.8.2->pandas) (1.16.0)\n"
          ]
        }
      ],
      "source": [
        "!pip install pandas"
      ]
    },
    {
      "cell_type": "code",
      "execution_count": null,
      "metadata": {
        "colab": {
          "base_uri": "https://localhost:8080/"
        },
        "id": "2JFValyflUY4",
        "outputId": "357926a6-70ff-4231-8d0d-bd973c483d54"
      },
      "outputs": [
        {
          "output_type": "stream",
          "name": "stdout",
          "text": [
            "Requirement already satisfied: numpy in /usr/local/lib/python3.10/dist-packages (1.25.2)\n"
          ]
        }
      ],
      "source": [
        "! pip install numpy"
      ]
    },
    {
      "cell_type": "code",
      "execution_count": null,
      "metadata": {
        "id": "styAAPBV2Fzj",
        "scrolled": true
      },
      "outputs": [],
      "source": [
        "import matplotlib.pyplot as plt\n",
        "import seaborn as sns\n",
        "import numpy as np\n",
        "import pandas as pd\n",
        "from datetime import date\n"
      ]
    },
    {
      "cell_type": "code",
      "execution_count": null,
      "metadata": {
        "id": "T6W3V2AG7fs8"
      },
      "outputs": [],
      "source": [
        "from sklearn.model_selection import train_test_split\n",
        "from sklearn.metrics import accuracy_score\n",
        "from sklearn.metrics import classification_report\n",
        "from sklearn.metrics import confusion_matrix\n",
        "from sklearn.tree import DecisionTreeClassifier\n",
        "from sklearn.ensemble import RandomForestClassifier\n",
        "from sklearn.ensemble import BaggingClassifier\n",
        "from sklearn.preprocessing import LabelEncoder\n",
        "from sklearn.metrics import roc_curve, auc, roc_auc_score\n",
        "from sklearn.metrics import precision_recall_curve\n",
        "from sklearn.metrics import log_loss\n",
        "from sklearn import tree"
      ]
    },
    {
      "cell_type": "markdown",
      "metadata": {
        "id": "RVUhZZ0uqheR"
      },
      "source": [
        "### Import of Cases 2010"
      ]
    },
    {
      "cell_type": "code",
      "execution_count": null,
      "metadata": {
        "colab": {
          "base_uri": "https://localhost:8080/"
        },
        "id": "VG5Ouj_OOG2R",
        "outputId": "01c64a60-4f02-4915-b7cc-e470552b4838"
      },
      "outputs": [
        {
          "output_type": "stream",
          "name": "stdout",
          "text": [
            "Mounted at /content/drive\n"
          ]
        }
      ],
      "source": [
        "from google.colab import drive\n",
        "drive.mount('/content/drive')"
      ]
    },
    {
      "cell_type": "code",
      "execution_count": null,
      "metadata": {
        "id": "CB_Ofwb18gl1",
        "colab": {
          "base_uri": "https://localhost:8080/",
          "height": 313
        },
        "outputId": "22e0f622-dd7b-4c6a-f03a-d81de4862e20"
      },
      "outputs": [
        {
          "output_type": "execute_result",
          "data": {
            "text/plain": [
              "                ddl_case_id  year  state_code  dist_code  court_no  \\\n",
              "0  01-01-01-201908000152010  2010           1          1         1   \n",
              "1  01-01-01-201908000242010  2010           1          1         1   \n",
              "2  01-01-01-201908000702010  2010           1          1         1   \n",
              "3  01-01-01-201908001322010  2010           1          1         1   \n",
              "4  01-01-01-201908001572010  2010           1          1         1   \n",
              "\n",
              "               cino             judge_position  female_defendant  \\\n",
              "0  MHNB030003482010  chief judicial magistrate                 0   \n",
              "1  MHNB030001272010  chief judicial magistrate                 0   \n",
              "2  MHNB030014152010  chief judicial magistrate                 0   \n",
              "3  MHNB030009002010  chief judicial magistrate             -9998   \n",
              "4  MHNB030010732010  chief judicial magistrate                 0   \n",
              "\n",
              "  female_petitioner  female_adv_def  female_adv_pet  type_name  purpose_name  \\\n",
              "0            0 male           -9999               0       1429        4946.0   \n",
              "1          1 female           -9999           -9998       1429        3627.0   \n",
              "2            0 male               0               1       1429         509.0   \n",
              "3          1 female               0               0       1429        2237.0   \n",
              "4          1 female           -9999               0       1429        3280.0   \n",
              "\n",
              "   disp_name             date_of_filing           date_of_decision  \\\n",
              "0         25  2010-04-20 00:00:00+00:00  2011-03-31 00:00:00+00:00   \n",
              "1         22  2010-02-11 00:00:00+00:00  2013-07-01 00:00:00+00:00   \n",
              "2         25  2010-05-28 00:00:00+00:00  2015-07-27 00:00:00+00:00   \n",
              "3         25  2010-08-31 00:00:00+00:00  2010-09-09 00:00:00+00:00   \n",
              "4         30  2010-11-12 00:00:00+00:00  2013-05-13 00:00:00+00:00   \n",
              "\n",
              "             date_first_list             date_last_list  \\\n",
              "0  2010-06-23 00:00:00+00:00  2011-02-28 00:00:00+00:00   \n",
              "1  2010-03-11 00:00:00+00:00  2013-06-12 00:00:00+00:00   \n",
              "2  2012-12-24 00:00:00+00:00  2015-06-19 00:00:00+00:00   \n",
              "3  2010-09-03 00:00:00+00:00  2010-09-06 00:00:00+00:00   \n",
              "4  2010-12-13 00:00:00+00:00  2013-03-26 00:00:00+00:00   \n",
              "\n",
              "              date_next_list      act    section bailable_ipc  \\\n",
              "0  2011-03-31 00:00:00+00:00  13504.0  1244334.0          NaN   \n",
              "1  2013-07-01 00:00:00+00:00   4759.0   132871.0          NaN   \n",
              "2  2015-07-27 00:00:00+00:00   9533.0  1166313.0          NaN   \n",
              "3  2010-09-09 00:00:00+00:00   4759.0  1123673.0          NaN   \n",
              "4  2013-05-13 00:00:00+00:00   4759.0   132871.0          NaN   \n",
              "\n",
              "   number_sections_ipc  criminal  ddl_filing_judge_id  ddl_decision_judge_id  \\\n",
              "0                  NaN       0.0                  NaN                    NaN   \n",
              "1                  NaN       1.0                  NaN                   51.0   \n",
              "2                  NaN       0.0                  NaN                    NaN   \n",
              "3                  NaN       1.0                  NaN                    NaN   \n",
              "4                  NaN       1.0                  NaN                   92.0   \n",
              "\n",
              "  female_judge_filing start_date_filing end_date_filing female_judge_decision  \\\n",
              "0                 NaN               NaN             NaN                   NaN   \n",
              "1                 NaN               NaN             NaN           0 nonfemale   \n",
              "2                 NaN               NaN             NaN                   NaN   \n",
              "3                 NaN               NaN             NaN                   NaN   \n",
              "4                 NaN               NaN             NaN           0 nonfemale   \n",
              "\n",
              "  start_date_decision end_date_decision  judgediff  pendency_decision_filing  \\\n",
              "0                 NaN               NaN        NaN                        11   \n",
              "1          2013-06-10        2013-09-23        NaN                        41   \n",
              "2                 NaN               NaN        NaN                        62   \n",
              "3                 NaN               NaN        NaN                         1   \n",
              "4          2011-06-06        2014-02-21        NaN                        30   \n",
              "\n",
              "   pendency_first_filing  pendency_decision_first  pendency_next_last  \\\n",
              "0                    2.0                      9.0                 1.0   \n",
              "1                    1.0                     40.0                 1.0   \n",
              "2                   31.0                     31.0                 1.0   \n",
              "3                    1.0                      0.0                 0.0   \n",
              "4                    1.0                     29.0                 2.0   \n",
              "\n",
              "   pendency_decision_last  pendency_decision_next  \\\n",
              "0                     1.0                     0.0   \n",
              "1                     1.0                     0.0   \n",
              "2                     1.0                     0.0   \n",
              "3                     0.0                     0.0   \n",
              "4                     2.0                     0.0   \n",
              "\n",
              "  pendency_decision_filing_categories  filing_judge_tenure  \\\n",
              "0                         upto 1 year                  NaN   \n",
              "1                        3 to 6 years                  NaN   \n",
              "2                        3 to 6 years                  NaN   \n",
              "3                         upto 1 year                  NaN   \n",
              "4                        1 to 3 years                  NaN   \n",
              "\n",
              "   decision_judge_tenure  \n",
              "0                    NaN  \n",
              "1                    3.0  \n",
              "2                    NaN  \n",
              "3                    NaN  \n",
              "4                   32.0  "
            ],
            "text/html": [
              "\n",
              "  <div id=\"df-0f96fef8-cfa3-4057-9199-b501c290e6de\" class=\"colab-df-container\">\n",
              "    <div>\n",
              "<style scoped>\n",
              "    .dataframe tbody tr th:only-of-type {\n",
              "        vertical-align: middle;\n",
              "    }\n",
              "\n",
              "    .dataframe tbody tr th {\n",
              "        vertical-align: top;\n",
              "    }\n",
              "\n",
              "    .dataframe thead th {\n",
              "        text-align: right;\n",
              "    }\n",
              "</style>\n",
              "<table border=\"1\" class=\"dataframe\">\n",
              "  <thead>\n",
              "    <tr style=\"text-align: right;\">\n",
              "      <th></th>\n",
              "      <th>ddl_case_id</th>\n",
              "      <th>year</th>\n",
              "      <th>state_code</th>\n",
              "      <th>dist_code</th>\n",
              "      <th>court_no</th>\n",
              "      <th>cino</th>\n",
              "      <th>judge_position</th>\n",
              "      <th>female_defendant</th>\n",
              "      <th>female_petitioner</th>\n",
              "      <th>female_adv_def</th>\n",
              "      <th>female_adv_pet</th>\n",
              "      <th>type_name</th>\n",
              "      <th>purpose_name</th>\n",
              "      <th>disp_name</th>\n",
              "      <th>date_of_filing</th>\n",
              "      <th>date_of_decision</th>\n",
              "      <th>date_first_list</th>\n",
              "      <th>date_last_list</th>\n",
              "      <th>date_next_list</th>\n",
              "      <th>act</th>\n",
              "      <th>section</th>\n",
              "      <th>bailable_ipc</th>\n",
              "      <th>number_sections_ipc</th>\n",
              "      <th>criminal</th>\n",
              "      <th>ddl_filing_judge_id</th>\n",
              "      <th>ddl_decision_judge_id</th>\n",
              "      <th>female_judge_filing</th>\n",
              "      <th>start_date_filing</th>\n",
              "      <th>end_date_filing</th>\n",
              "      <th>female_judge_decision</th>\n",
              "      <th>start_date_decision</th>\n",
              "      <th>end_date_decision</th>\n",
              "      <th>judgediff</th>\n",
              "      <th>pendency_decision_filing</th>\n",
              "      <th>pendency_first_filing</th>\n",
              "      <th>pendency_decision_first</th>\n",
              "      <th>pendency_next_last</th>\n",
              "      <th>pendency_decision_last</th>\n",
              "      <th>pendency_decision_next</th>\n",
              "      <th>pendency_decision_filing_categories</th>\n",
              "      <th>filing_judge_tenure</th>\n",
              "      <th>decision_judge_tenure</th>\n",
              "    </tr>\n",
              "  </thead>\n",
              "  <tbody>\n",
              "    <tr>\n",
              "      <th>0</th>\n",
              "      <td>01-01-01-201908000152010</td>\n",
              "      <td>2010</td>\n",
              "      <td>1</td>\n",
              "      <td>1</td>\n",
              "      <td>1</td>\n",
              "      <td>MHNB030003482010</td>\n",
              "      <td>chief judicial magistrate</td>\n",
              "      <td>0</td>\n",
              "      <td>0 male</td>\n",
              "      <td>-9999</td>\n",
              "      <td>0</td>\n",
              "      <td>1429</td>\n",
              "      <td>4946.0</td>\n",
              "      <td>25</td>\n",
              "      <td>2010-04-20 00:00:00+00:00</td>\n",
              "      <td>2011-03-31 00:00:00+00:00</td>\n",
              "      <td>2010-06-23 00:00:00+00:00</td>\n",
              "      <td>2011-02-28 00:00:00+00:00</td>\n",
              "      <td>2011-03-31 00:00:00+00:00</td>\n",
              "      <td>13504.0</td>\n",
              "      <td>1244334.0</td>\n",
              "      <td>NaN</td>\n",
              "      <td>NaN</td>\n",
              "      <td>0.0</td>\n",
              "      <td>NaN</td>\n",
              "      <td>NaN</td>\n",
              "      <td>NaN</td>\n",
              "      <td>NaN</td>\n",
              "      <td>NaN</td>\n",
              "      <td>NaN</td>\n",
              "      <td>NaN</td>\n",
              "      <td>NaN</td>\n",
              "      <td>NaN</td>\n",
              "      <td>11</td>\n",
              "      <td>2.0</td>\n",
              "      <td>9.0</td>\n",
              "      <td>1.0</td>\n",
              "      <td>1.0</td>\n",
              "      <td>0.0</td>\n",
              "      <td>upto 1 year</td>\n",
              "      <td>NaN</td>\n",
              "      <td>NaN</td>\n",
              "    </tr>\n",
              "    <tr>\n",
              "      <th>1</th>\n",
              "      <td>01-01-01-201908000242010</td>\n",
              "      <td>2010</td>\n",
              "      <td>1</td>\n",
              "      <td>1</td>\n",
              "      <td>1</td>\n",
              "      <td>MHNB030001272010</td>\n",
              "      <td>chief judicial magistrate</td>\n",
              "      <td>0</td>\n",
              "      <td>1 female</td>\n",
              "      <td>-9999</td>\n",
              "      <td>-9998</td>\n",
              "      <td>1429</td>\n",
              "      <td>3627.0</td>\n",
              "      <td>22</td>\n",
              "      <td>2010-02-11 00:00:00+00:00</td>\n",
              "      <td>2013-07-01 00:00:00+00:00</td>\n",
              "      <td>2010-03-11 00:00:00+00:00</td>\n",
              "      <td>2013-06-12 00:00:00+00:00</td>\n",
              "      <td>2013-07-01 00:00:00+00:00</td>\n",
              "      <td>4759.0</td>\n",
              "      <td>132871.0</td>\n",
              "      <td>NaN</td>\n",
              "      <td>NaN</td>\n",
              "      <td>1.0</td>\n",
              "      <td>NaN</td>\n",
              "      <td>51.0</td>\n",
              "      <td>NaN</td>\n",
              "      <td>NaN</td>\n",
              "      <td>NaN</td>\n",
              "      <td>0 nonfemale</td>\n",
              "      <td>2013-06-10</td>\n",
              "      <td>2013-09-23</td>\n",
              "      <td>NaN</td>\n",
              "      <td>41</td>\n",
              "      <td>1.0</td>\n",
              "      <td>40.0</td>\n",
              "      <td>1.0</td>\n",
              "      <td>1.0</td>\n",
              "      <td>0.0</td>\n",
              "      <td>3 to 6 years</td>\n",
              "      <td>NaN</td>\n",
              "      <td>3.0</td>\n",
              "    </tr>\n",
              "    <tr>\n",
              "      <th>2</th>\n",
              "      <td>01-01-01-201908000702010</td>\n",
              "      <td>2010</td>\n",
              "      <td>1</td>\n",
              "      <td>1</td>\n",
              "      <td>1</td>\n",
              "      <td>MHNB030014152010</td>\n",
              "      <td>chief judicial magistrate</td>\n",
              "      <td>0</td>\n",
              "      <td>0 male</td>\n",
              "      <td>0</td>\n",
              "      <td>1</td>\n",
              "      <td>1429</td>\n",
              "      <td>509.0</td>\n",
              "      <td>25</td>\n",
              "      <td>2010-05-28 00:00:00+00:00</td>\n",
              "      <td>2015-07-27 00:00:00+00:00</td>\n",
              "      <td>2012-12-24 00:00:00+00:00</td>\n",
              "      <td>2015-06-19 00:00:00+00:00</td>\n",
              "      <td>2015-07-27 00:00:00+00:00</td>\n",
              "      <td>9533.0</td>\n",
              "      <td>1166313.0</td>\n",
              "      <td>NaN</td>\n",
              "      <td>NaN</td>\n",
              "      <td>0.0</td>\n",
              "      <td>NaN</td>\n",
              "      <td>NaN</td>\n",
              "      <td>NaN</td>\n",
              "      <td>NaN</td>\n",
              "      <td>NaN</td>\n",
              "      <td>NaN</td>\n",
              "      <td>NaN</td>\n",
              "      <td>NaN</td>\n",
              "      <td>NaN</td>\n",
              "      <td>62</td>\n",
              "      <td>31.0</td>\n",
              "      <td>31.0</td>\n",
              "      <td>1.0</td>\n",
              "      <td>1.0</td>\n",
              "      <td>0.0</td>\n",
              "      <td>3 to 6 years</td>\n",
              "      <td>NaN</td>\n",
              "      <td>NaN</td>\n",
              "    </tr>\n",
              "    <tr>\n",
              "      <th>3</th>\n",
              "      <td>01-01-01-201908001322010</td>\n",
              "      <td>2010</td>\n",
              "      <td>1</td>\n",
              "      <td>1</td>\n",
              "      <td>1</td>\n",
              "      <td>MHNB030009002010</td>\n",
              "      <td>chief judicial magistrate</td>\n",
              "      <td>-9998</td>\n",
              "      <td>1 female</td>\n",
              "      <td>0</td>\n",
              "      <td>0</td>\n",
              "      <td>1429</td>\n",
              "      <td>2237.0</td>\n",
              "      <td>25</td>\n",
              "      <td>2010-08-31 00:00:00+00:00</td>\n",
              "      <td>2010-09-09 00:00:00+00:00</td>\n",
              "      <td>2010-09-03 00:00:00+00:00</td>\n",
              "      <td>2010-09-06 00:00:00+00:00</td>\n",
              "      <td>2010-09-09 00:00:00+00:00</td>\n",
              "      <td>4759.0</td>\n",
              "      <td>1123673.0</td>\n",
              "      <td>NaN</td>\n",
              "      <td>NaN</td>\n",
              "      <td>1.0</td>\n",
              "      <td>NaN</td>\n",
              "      <td>NaN</td>\n",
              "      <td>NaN</td>\n",
              "      <td>NaN</td>\n",
              "      <td>NaN</td>\n",
              "      <td>NaN</td>\n",
              "      <td>NaN</td>\n",
              "      <td>NaN</td>\n",
              "      <td>NaN</td>\n",
              "      <td>1</td>\n",
              "      <td>1.0</td>\n",
              "      <td>0.0</td>\n",
              "      <td>0.0</td>\n",
              "      <td>0.0</td>\n",
              "      <td>0.0</td>\n",
              "      <td>upto 1 year</td>\n",
              "      <td>NaN</td>\n",
              "      <td>NaN</td>\n",
              "    </tr>\n",
              "    <tr>\n",
              "      <th>4</th>\n",
              "      <td>01-01-01-201908001572010</td>\n",
              "      <td>2010</td>\n",
              "      <td>1</td>\n",
              "      <td>1</td>\n",
              "      <td>1</td>\n",
              "      <td>MHNB030010732010</td>\n",
              "      <td>chief judicial magistrate</td>\n",
              "      <td>0</td>\n",
              "      <td>1 female</td>\n",
              "      <td>-9999</td>\n",
              "      <td>0</td>\n",
              "      <td>1429</td>\n",
              "      <td>3280.0</td>\n",
              "      <td>30</td>\n",
              "      <td>2010-11-12 00:00:00+00:00</td>\n",
              "      <td>2013-05-13 00:00:00+00:00</td>\n",
              "      <td>2010-12-13 00:00:00+00:00</td>\n",
              "      <td>2013-03-26 00:00:00+00:00</td>\n",
              "      <td>2013-05-13 00:00:00+00:00</td>\n",
              "      <td>4759.0</td>\n",
              "      <td>132871.0</td>\n",
              "      <td>NaN</td>\n",
              "      <td>NaN</td>\n",
              "      <td>1.0</td>\n",
              "      <td>NaN</td>\n",
              "      <td>92.0</td>\n",
              "      <td>NaN</td>\n",
              "      <td>NaN</td>\n",
              "      <td>NaN</td>\n",
              "      <td>0 nonfemale</td>\n",
              "      <td>2011-06-06</td>\n",
              "      <td>2014-02-21</td>\n",
              "      <td>NaN</td>\n",
              "      <td>30</td>\n",
              "      <td>1.0</td>\n",
              "      <td>29.0</td>\n",
              "      <td>2.0</td>\n",
              "      <td>2.0</td>\n",
              "      <td>0.0</td>\n",
              "      <td>1 to 3 years</td>\n",
              "      <td>NaN</td>\n",
              "      <td>32.0</td>\n",
              "    </tr>\n",
              "  </tbody>\n",
              "</table>\n",
              "</div>\n",
              "    <div class=\"colab-df-buttons\">\n",
              "\n",
              "  <div class=\"colab-df-container\">\n",
              "    <button class=\"colab-df-convert\" onclick=\"convertToInteractive('df-0f96fef8-cfa3-4057-9199-b501c290e6de')\"\n",
              "            title=\"Convert this dataframe to an interactive table.\"\n",
              "            style=\"display:none;\">\n",
              "\n",
              "  <svg xmlns=\"http://www.w3.org/2000/svg\" height=\"24px\" viewBox=\"0 -960 960 960\">\n",
              "    <path d=\"M120-120v-720h720v720H120Zm60-500h600v-160H180v160Zm220 220h160v-160H400v160Zm0 220h160v-160H400v160ZM180-400h160v-160H180v160Zm440 0h160v-160H620v160ZM180-180h160v-160H180v160Zm440 0h160v-160H620v160Z\"/>\n",
              "  </svg>\n",
              "    </button>\n",
              "\n",
              "  <style>\n",
              "    .colab-df-container {\n",
              "      display:flex;\n",
              "      gap: 12px;\n",
              "    }\n",
              "\n",
              "    .colab-df-convert {\n",
              "      background-color: #E8F0FE;\n",
              "      border: none;\n",
              "      border-radius: 50%;\n",
              "      cursor: pointer;\n",
              "      display: none;\n",
              "      fill: #1967D2;\n",
              "      height: 32px;\n",
              "      padding: 0 0 0 0;\n",
              "      width: 32px;\n",
              "    }\n",
              "\n",
              "    .colab-df-convert:hover {\n",
              "      background-color: #E2EBFA;\n",
              "      box-shadow: 0px 1px 2px rgba(60, 64, 67, 0.3), 0px 1px 3px 1px rgba(60, 64, 67, 0.15);\n",
              "      fill: #174EA6;\n",
              "    }\n",
              "\n",
              "    .colab-df-buttons div {\n",
              "      margin-bottom: 4px;\n",
              "    }\n",
              "\n",
              "    [theme=dark] .colab-df-convert {\n",
              "      background-color: #3B4455;\n",
              "      fill: #D2E3FC;\n",
              "    }\n",
              "\n",
              "    [theme=dark] .colab-df-convert:hover {\n",
              "      background-color: #434B5C;\n",
              "      box-shadow: 0px 1px 3px 1px rgba(0, 0, 0, 0.15);\n",
              "      filter: drop-shadow(0px 1px 2px rgba(0, 0, 0, 0.3));\n",
              "      fill: #FFFFFF;\n",
              "    }\n",
              "  </style>\n",
              "\n",
              "    <script>\n",
              "      const buttonEl =\n",
              "        document.querySelector('#df-0f96fef8-cfa3-4057-9199-b501c290e6de button.colab-df-convert');\n",
              "      buttonEl.style.display =\n",
              "        google.colab.kernel.accessAllowed ? 'block' : 'none';\n",
              "\n",
              "      async function convertToInteractive(key) {\n",
              "        const element = document.querySelector('#df-0f96fef8-cfa3-4057-9199-b501c290e6de');\n",
              "        const dataTable =\n",
              "          await google.colab.kernel.invokeFunction('convertToInteractive',\n",
              "                                                    [key], {});\n",
              "        if (!dataTable) return;\n",
              "\n",
              "        const docLinkHtml = 'Like what you see? Visit the ' +\n",
              "          '<a target=\"_blank\" href=https://colab.research.google.com/notebooks/data_table.ipynb>data table notebook</a>'\n",
              "          + ' to learn more about interactive tables.';\n",
              "        element.innerHTML = '';\n",
              "        dataTable['output_type'] = 'display_data';\n",
              "        await google.colab.output.renderOutput(dataTable, element);\n",
              "        const docLink = document.createElement('div');\n",
              "        docLink.innerHTML = docLinkHtml;\n",
              "        element.appendChild(docLink);\n",
              "      }\n",
              "    </script>\n",
              "  </div>\n",
              "\n",
              "\n",
              "<div id=\"df-ca6257c0-c59d-448f-84f6-f37efca278ed\">\n",
              "  <button class=\"colab-df-quickchart\" onclick=\"quickchart('df-ca6257c0-c59d-448f-84f6-f37efca278ed')\"\n",
              "            title=\"Suggest charts\"\n",
              "            style=\"display:none;\">\n",
              "\n",
              "<svg xmlns=\"http://www.w3.org/2000/svg\" height=\"24px\"viewBox=\"0 0 24 24\"\n",
              "     width=\"24px\">\n",
              "    <g>\n",
              "        <path d=\"M19 3H5c-1.1 0-2 .9-2 2v14c0 1.1.9 2 2 2h14c1.1 0 2-.9 2-2V5c0-1.1-.9-2-2-2zM9 17H7v-7h2v7zm4 0h-2V7h2v10zm4 0h-2v-4h2v4z\"/>\n",
              "    </g>\n",
              "</svg>\n",
              "  </button>\n",
              "\n",
              "<style>\n",
              "  .colab-df-quickchart {\n",
              "      --bg-color: #E8F0FE;\n",
              "      --fill-color: #1967D2;\n",
              "      --hover-bg-color: #E2EBFA;\n",
              "      --hover-fill-color: #174EA6;\n",
              "      --disabled-fill-color: #AAA;\n",
              "      --disabled-bg-color: #DDD;\n",
              "  }\n",
              "\n",
              "  [theme=dark] .colab-df-quickchart {\n",
              "      --bg-color: #3B4455;\n",
              "      --fill-color: #D2E3FC;\n",
              "      --hover-bg-color: #434B5C;\n",
              "      --hover-fill-color: #FFFFFF;\n",
              "      --disabled-bg-color: #3B4455;\n",
              "      --disabled-fill-color: #666;\n",
              "  }\n",
              "\n",
              "  .colab-df-quickchart {\n",
              "    background-color: var(--bg-color);\n",
              "    border: none;\n",
              "    border-radius: 50%;\n",
              "    cursor: pointer;\n",
              "    display: none;\n",
              "    fill: var(--fill-color);\n",
              "    height: 32px;\n",
              "    padding: 0;\n",
              "    width: 32px;\n",
              "  }\n",
              "\n",
              "  .colab-df-quickchart:hover {\n",
              "    background-color: var(--hover-bg-color);\n",
              "    box-shadow: 0 1px 2px rgba(60, 64, 67, 0.3), 0 1px 3px 1px rgba(60, 64, 67, 0.15);\n",
              "    fill: var(--button-hover-fill-color);\n",
              "  }\n",
              "\n",
              "  .colab-df-quickchart-complete:disabled,\n",
              "  .colab-df-quickchart-complete:disabled:hover {\n",
              "    background-color: var(--disabled-bg-color);\n",
              "    fill: var(--disabled-fill-color);\n",
              "    box-shadow: none;\n",
              "  }\n",
              "\n",
              "  .colab-df-spinner {\n",
              "    border: 2px solid var(--fill-color);\n",
              "    border-color: transparent;\n",
              "    border-bottom-color: var(--fill-color);\n",
              "    animation:\n",
              "      spin 1s steps(1) infinite;\n",
              "  }\n",
              "\n",
              "  @keyframes spin {\n",
              "    0% {\n",
              "      border-color: transparent;\n",
              "      border-bottom-color: var(--fill-color);\n",
              "      border-left-color: var(--fill-color);\n",
              "    }\n",
              "    20% {\n",
              "      border-color: transparent;\n",
              "      border-left-color: var(--fill-color);\n",
              "      border-top-color: var(--fill-color);\n",
              "    }\n",
              "    30% {\n",
              "      border-color: transparent;\n",
              "      border-left-color: var(--fill-color);\n",
              "      border-top-color: var(--fill-color);\n",
              "      border-right-color: var(--fill-color);\n",
              "    }\n",
              "    40% {\n",
              "      border-color: transparent;\n",
              "      border-right-color: var(--fill-color);\n",
              "      border-top-color: var(--fill-color);\n",
              "    }\n",
              "    60% {\n",
              "      border-color: transparent;\n",
              "      border-right-color: var(--fill-color);\n",
              "    }\n",
              "    80% {\n",
              "      border-color: transparent;\n",
              "      border-right-color: var(--fill-color);\n",
              "      border-bottom-color: var(--fill-color);\n",
              "    }\n",
              "    90% {\n",
              "      border-color: transparent;\n",
              "      border-bottom-color: var(--fill-color);\n",
              "    }\n",
              "  }\n",
              "</style>\n",
              "\n",
              "  <script>\n",
              "    async function quickchart(key) {\n",
              "      const quickchartButtonEl =\n",
              "        document.querySelector('#' + key + ' button');\n",
              "      quickchartButtonEl.disabled = true;  // To prevent multiple clicks.\n",
              "      quickchartButtonEl.classList.add('colab-df-spinner');\n",
              "      try {\n",
              "        const charts = await google.colab.kernel.invokeFunction(\n",
              "            'suggestCharts', [key], {});\n",
              "      } catch (error) {\n",
              "        console.error('Error during call to suggestCharts:', error);\n",
              "      }\n",
              "      quickchartButtonEl.classList.remove('colab-df-spinner');\n",
              "      quickchartButtonEl.classList.add('colab-df-quickchart-complete');\n",
              "    }\n",
              "    (() => {\n",
              "      let quickchartButtonEl =\n",
              "        document.querySelector('#df-ca6257c0-c59d-448f-84f6-f37efca278ed button');\n",
              "      quickchartButtonEl.style.display =\n",
              "        google.colab.kernel.accessAllowed ? 'block' : 'none';\n",
              "    })();\n",
              "  </script>\n",
              "</div>\n",
              "\n",
              "    </div>\n",
              "  </div>\n"
            ],
            "application/vnd.google.colaboratory.intrinsic+json": {
              "type": "dataframe",
              "variable_name": "df_cases2010_orig"
            }
          },
          "metadata": {},
          "execution_count": 8
        }
      ],
      "source": [
        "20# Download the dataset from the zip file and keep the file case_2010_final.csv it on your google drive.\n",
        "# You would have to change path below appropriately to load and run the below line of code.\n",
        "df_cases2010_orig = pd.read_csv(\"/content/drive/MyDrive/Colab Notebooks/cases_2010_final.csv\")\n",
        "#print all columns\n",
        "pd.set_option('display.max_columns', None)\n",
        "df_cases2010_orig.head()"
      ]
    },
    {
      "cell_type": "code",
      "execution_count": null,
      "metadata": {
        "id": "7JD_Ubl6T5St",
        "colab": {
          "base_uri": "https://localhost:8080/"
        },
        "outputId": "262717a0-cb65-4b36-e02f-2cb597f9940e"
      },
      "outputs": [
        {
          "output_type": "execute_result",
          "data": {
            "text/plain": [
              "ddl_case_id                             object\n",
              "year                                     int64\n",
              "state_code                               int64\n",
              "dist_code                                int64\n",
              "court_no                                 int64\n",
              "cino                                    object\n",
              "judge_position                          object\n",
              "female_defendant                         int64\n",
              "female_petitioner                       object\n",
              "female_adv_def                           int64\n",
              "female_adv_pet                           int64\n",
              "type_name                                int64\n",
              "purpose_name                           float64\n",
              "disp_name                                int64\n",
              "date_of_filing                          object\n",
              "date_of_decision                        object\n",
              "date_first_list                         object\n",
              "date_last_list                          object\n",
              "date_next_list                          object\n",
              "act                                    float64\n",
              "section                                float64\n",
              "bailable_ipc                            object\n",
              "number_sections_ipc                    float64\n",
              "criminal                               float64\n",
              "ddl_filing_judge_id                    float64\n",
              "ddl_decision_judge_id                  float64\n",
              "female_judge_filing                     object\n",
              "start_date_filing                       object\n",
              "end_date_filing                         object\n",
              "female_judge_decision                   object\n",
              "start_date_decision                     object\n",
              "end_date_decision                       object\n",
              "judgediff                              float64\n",
              "pendency_decision_filing                 int64\n",
              "pendency_first_filing                  float64\n",
              "pendency_decision_first                float64\n",
              "pendency_next_last                     float64\n",
              "pendency_decision_last                 float64\n",
              "pendency_decision_next                 float64\n",
              "pendency_decision_filing_categories     object\n",
              "filing_judge_tenure                    float64\n",
              "decision_judge_tenure                  float64\n",
              "dtype: object"
            ]
          },
          "metadata": {},
          "execution_count": 9
        }
      ],
      "source": [
        "df_cases2010_orig.dtypes"
      ]
    },
    {
      "cell_type": "markdown",
      "metadata": {
        "id": "jWhVgsTDOwN2"
      },
      "source": [
        "## Preprocessing & Feature Engineering"
      ]
    },
    {
      "cell_type": "code",
      "execution_count": null,
      "metadata": {
        "id": "U0XpwncE8f8c",
        "colab": {
          "base_uri": "https://localhost:8080/"
        },
        "outputId": "74469caa-24b4-4602-fd16-22bc36f2385f"
      },
      "outputs": [
        {
          "output_type": "stream",
          "name": "stdout",
          "text": [
            "Column 'ddl_case_id' has 0 missing values which is 0% of total\n",
            "Column 'year' has 0 missing values which is 0% of total\n",
            "Column 'state_code' has 0 missing values which is 0% of total\n",
            "Column 'dist_code' has 0 missing values which is 0% of total\n",
            "Column 'court_no' has 0 missing values which is 0% of total\n",
            "Column 'cino' has 0 missing values which is 0% of total\n",
            "Column 'judge_position' has 0 missing values which is 0% of total\n",
            "Column 'female_defendant' has 0 missing values which is 0% of total\n",
            "Column 'female_petitioner' has 0 missing values which is 0% of total\n",
            "Column 'female_adv_def' has 0 missing values which is 0% of total\n",
            "Column 'female_adv_pet' has 0 missing values which is 0% of total\n",
            "Column 'type_name' has 0 missing values which is 0% of total\n",
            "Column 'purpose_name' has 233545 missing values which is 6% of total\n",
            "Column 'disp_name' has 0 missing values which is 0% of total\n",
            "Column 'date_of_filing' has 0 missing values which is 0% of total\n",
            "Column 'date_of_decision' has 570401 missing values which is 14% of total\n",
            "Column 'date_first_list' has 279548 missing values which is 7% of total\n",
            "Column 'date_last_list' has 158263 missing values which is 4% of total\n",
            "Column 'date_next_list' has 157923 missing values which is 4% of total\n",
            "Column 'act' has 2054999 missing values which is 49% of total\n",
            "Column 'section' has 2298209 missing values which is 55% of total\n",
            "Column 'bailable_ipc' has 3739286 missing values which is 89% of total\n",
            "Column 'number_sections_ipc' has 3515887 missing values which is 84% of total\n",
            "Column 'criminal' has 2054885 missing values which is 49% of total\n",
            "Column 'ddl_filing_judge_id' has 4101239 missing values which is 98% of total\n",
            "Column 'ddl_decision_judge_id' has 3916281 missing values which is 93% of total\n",
            "Column 'female_judge_filing' has 4101239 missing values which is 98% of total\n",
            "Column 'start_date_filing' has 4101239 missing values which is 98% of total\n",
            "Column 'end_date_filing' has 4101275 missing values which is 98% of total\n",
            "Column 'female_judge_decision' has 3916281 missing values which is 93% of total\n",
            "Column 'start_date_decision' has 3916281 missing values which is 93% of total\n",
            "Column 'end_date_decision' has 3994646 missing values which is 95% of total\n",
            "Column 'judgediff' has 4107182 missing values which is 98% of total\n",
            "Column 'pendency_decision_filing' has 0 missing values which is 0% of total\n",
            "Column 'pendency_first_filing' has 279548 missing values which is 7% of total\n",
            "Column 'pendency_decision_first' has 837324 missing values which is 20% of total\n",
            "Column 'pendency_next_last' has 163977 missing values which is 4% of total\n",
            "Column 'pendency_decision_last' has 719910 missing values which is 17% of total\n",
            "Column 'pendency_decision_next' has 719205 missing values which is 17% of total\n",
            "Column 'pendency_decision_filing_categories' has 0 missing values which is 0% of total\n",
            "Column 'filing_judge_tenure' has 4101275 missing values which is 98% of total\n",
            "Column 'decision_judge_tenure' has 3994646 missing values which is 95% of total\n"
          ]
        }
      ],
      "source": [
        "missing_values = df_cases2010_orig.isna().sum()\n",
        "total_rows = df_cases2010_orig.shape[0]\n",
        "# print column names and number of missing values\n",
        "for col, num_missing in missing_values.items():\n",
        "    percent_missing = round(num_missing/total_rows*100)\n",
        "    print(f\"Column '{col}' has {num_missing} missing values which is {percent_missing}% of total\")"
      ]
    },
    {
      "cell_type": "markdown",
      "metadata": {
        "id": "9hGp--fAjETh"
      },
      "source": [
        "We will drop following features as for year 2010 the majority of data about the filling and decision judges is missing\n",
        "\n",
        "* ddl_filing_judge_id\n",
        "* ddl_decision_judge_id\n",
        "* start_date_filing\n",
        "* end_date_filing\n",
        "* start_date_decision\n",
        "* end_date_decision\n",
        "* judgediff\n",
        "* filing_judge_tenure             \n",
        "* decision_judge_tenure    \n",
        "* purpose_name\n",
        "\n",
        "\n",
        "The following are dropped as these dates are converted into categorical variables as periods\n",
        "\n",
        "* date_of_filing                       \n",
        "* date_of_decision                    \n",
        "* date_first_list                    \n",
        "* date_last_list                        \n",
        "* date_next_list\n",
        "\n",
        "The following are dropped as they are just identifiers\n",
        "\n",
        "* ddl_case_id                            \n",
        "* year\n",
        "* cino\n",
        "\n",
        "These variables are not included as features for our modelling as they will not be available when the model will be used for prediction or deemed not important*\n",
        "\n",
        "* disp_name\n",
        "* pendency_first_filing\n",
        "* pendency_decision_first\n",
        "* pendency_decision_last\n",
        "* pendency_decision_filing\n",
        "* pendency_decision_next\n",
        "* pendency_next_last"
      ]
    },
    {
      "cell_type": "code",
      "execution_count": null,
      "metadata": {
        "id": "fOJumjHajwIk"
      },
      "outputs": [],
      "source": [
        "df_cases2010_orig[\"court_details\"] = df_cases2010_orig[\"state_code\"].astype(str) + \"_\" + df_cases2010_orig[\"dist_code\"].astype(str) + \"_\" + df_cases2010_orig[\"court_no\"].astype(str)\n",
        "\n",
        "df_cases2010_orig[\"state_district\"] = df_cases2010_orig[\"state_code\"].astype(str) + \"_\" + df_cases2010_orig[\"dist_code\"].astype(str)"
      ]
    },
    {
      "cell_type": "code",
      "execution_count": null,
      "metadata": {
        "id": "IcAkm9wG_U_O"
      },
      "outputs": [],
      "source": [
        "columns_to_drop = ['ddl_filing_judge_id','ddl_decision_judge_id','start_date_filing','end_date_filing','start_date_decision','end_date_decision',\\\n",
        "                   'judgediff','filing_judge_tenure','decision_judge_tenure','date_first_list','date_last_list','date_next_list','disp_name',\\\n",
        "                   'pendency_decision_first','pendency_decision_first','pendency_decision_last', 'pendency_decision_next','pendency_first_filing', \\\n",
        "                   'pendency_next_last','ddl_case_id','year','cino','court_no','dist_code','purpose_name']\n",
        "\n",
        "\n",
        "# Create a copy of the dataframe and start preparing the same for prediction modelling\n",
        "df_cases2010 = df_cases2010_orig.drop(columns=columns_to_drop, axis=1)\n"
      ]
    },
    {
      "cell_type": "code",
      "execution_count": null,
      "metadata": {
        "id": "cM9gfCrLaddR",
        "colab": {
          "base_uri": "https://localhost:8080/"
        },
        "outputId": "cdc24263-a715-49d2-d63b-62f4b1dda85b"
      },
      "outputs": [
        {
          "output_type": "stream",
          "name": "stdout",
          "text": [
            "<class 'pandas.core.frame.DataFrame'>\n",
            "RangeIndex: 4190783 entries, 0 to 4190782\n",
            "Data columns (total 20 columns):\n",
            " #   Column                               Dtype  \n",
            "---  ------                               -----  \n",
            " 0   state_code                           int64  \n",
            " 1   judge_position                       object \n",
            " 2   female_defendant                     int64  \n",
            " 3   female_petitioner                    object \n",
            " 4   female_adv_def                       int64  \n",
            " 5   female_adv_pet                       int64  \n",
            " 6   type_name                            int64  \n",
            " 7   date_of_filing                       object \n",
            " 8   date_of_decision                     object \n",
            " 9   act                                  float64\n",
            " 10  section                              float64\n",
            " 11  bailable_ipc                         object \n",
            " 12  number_sections_ipc                  float64\n",
            " 13  criminal                             float64\n",
            " 14  female_judge_filing                  object \n",
            " 15  female_judge_decision                object \n",
            " 16  pendency_decision_filing             int64  \n",
            " 17  pendency_decision_filing_categories  object \n",
            " 18  court_details                        object \n",
            " 19  state_district                       object \n",
            "dtypes: float64(4), int64(6), object(10)\n",
            "memory usage: 639.5+ MB\n"
          ]
        }
      ],
      "source": [
        "df_cases2010.info()"
      ]
    },
    {
      "cell_type": "code",
      "execution_count": null,
      "metadata": {
        "id": "4_upqghOj4u2"
      },
      "outputs": [],
      "source": [
        "df_cases2010 = df_cases2010.fillna(\"NA\")"
      ]
    },
    {
      "cell_type": "code",
      "execution_count": null,
      "metadata": {
        "id": "dc-HTouChhDX"
      },
      "outputs": [],
      "source": [
        "# Convert all other features to categorical except pendency_first_filing which is numerical\n",
        "# number_sections_ipc is treated as categorical as it has lots of missing values which is better handled as categorical data\n",
        "df_cases2010['state_code'] = df_cases2010['state_code'].astype(str).astype('category')\n",
        "df_cases2010['judge_position'] = df_cases2010['judge_position'].astype(str).astype('category')\n",
        "df_cases2010['female_defendant'] = df_cases2010['female_defendant'].astype(str).astype('category')\n",
        "df_cases2010['female_petitioner'] = df_cases2010['female_petitioner'].astype(str).astype('category')\n",
        "df_cases2010['female_adv_def'] = df_cases2010['female_adv_def'].astype(str).astype('category')\n",
        "df_cases2010['female_adv_pet'] = df_cases2010['female_adv_pet'].astype(str).astype('category')\n",
        "df_cases2010['type_name'] = df_cases2010['type_name'].astype(str).astype('category')\n",
        "df_cases2010['act'] = df_cases2010['act'].astype(str).astype('category')\n",
        "df_cases2010['section'] = df_cases2010['section'].astype(str).astype('category')\n",
        "df_cases2010['bailable_ipc'] = df_cases2010['bailable_ipc'].astype(str).astype('category')\n",
        "df_cases2010['number_sections_ipc'] = df_cases2010['number_sections_ipc'].astype(str).astype('category')\n",
        "df_cases2010['criminal'] = df_cases2010['criminal'].astype(str).astype('category')\n",
        "df_cases2010['female_judge_filing'] = df_cases2010['female_judge_filing'].astype(str).astype('category')\n",
        "df_cases2010['female_judge_decision'] = df_cases2010['female_judge_decision'].astype(str).astype('category')\n",
        "df_cases2010['pendency_decision_filing_categories'] = df_cases2010['pendency_decision_filing_categories'].astype(str).astype('category')"
      ]
    },
    {
      "cell_type": "code",
      "execution_count": null,
      "metadata": {
        "id": "U2GiN58skE24",
        "colab": {
          "base_uri": "https://localhost:8080/"
        },
        "outputId": "51b13bfa-f5a3-4de6-f5cc-65a0b5ff434e"
      },
      "outputs": [
        {
          "output_type": "stream",
          "name": "stdout",
          "text": [
            "Mean values:\n",
            " 1.255378919212472e+18\n",
            "\n",
            "Median values:\n",
            " 38.0\n",
            "\n",
            "75th Percentile:\n",
            " 74.0\n"
          ]
        }
      ],
      "source": [
        "mean_vals = df_cases2010['pendency_decision_filing'].mean()\n",
        "median_vals = df_cases2010['pendency_decision_filing'].median()\n",
        "percentile_75th = np.percentile(df_cases2010['pendency_decision_filing'], 75)\n",
        "\n",
        "print(\"Mean values:\\n\", mean_vals)\n",
        "print(\"\\nMedian values:\\n\", median_vals)\n",
        "print(\"\\n75th Percentile:\\n\", percentile_75th)"
      ]
    },
    {
      "cell_type": "code",
      "execution_count": null,
      "metadata": {
        "id": "0VbNIU-4kIiz",
        "colab": {
          "base_uri": "https://localhost:8080/"
        },
        "outputId": "510a673d-0ecf-4ac2-a065-841b59184784"
      },
      "outputs": [
        {
          "output_type": "stream",
          "name": "stdout",
          "text": [
            "<bound method ExtensionArray.tolist of ['upto 1 year', '3 to 6 years', '1 to 3 years', '>10 years', '6 to 10 years']\n",
            "Categories (5, object): ['1 to 3 years', '3 to 6 years', '6 to 10 years', '>10 years', 'upto 1 year']>\n"
          ]
        }
      ],
      "source": [
        "print(df_cases2010['pendency_decision_filing_categories'].unique().tolist)"
      ]
    },
    {
      "cell_type": "code",
      "execution_count": null,
      "metadata": {
        "id": "LHkDH3VH2hGW"
      },
      "outputs": [],
      "source": [
        "# create columns for binary classification problem\n",
        "mapping_three = {'upto 1 year': 'less_three' ,'1 to 2 years': 'less_three', '2 to 3 years': 'less_three','3 to 4 years': 'three_plus','4 to 5 years': 'three_plus', '5 to 6 years': 'three_plus','6 to 7 years': 'three_plus', '7 to 8 years': 'three_plus','8 to 9 years': 'three_plus', '9 to 10 years': 'three_plus',  '10 to 11 years': 'three_plus','upto 1 year': 'less_three' }\n",
        "df_cases2010['pendency_model_threeyear'] =df_cases2010['pendency_decision_filing_categories'].replace(mapping_three)\n",
        "df_cases2010['pendency_model_threeyear'] = df_cases2010['pendency_model_threeyear'].astype(str).astype('category')\n"
      ]
    },
    {
      "cell_type": "code",
      "execution_count": null,
      "metadata": {
        "id": "KR5-6nKG5pZy",
        "colab": {
          "base_uri": "https://localhost:8080/"
        },
        "outputId": "1950c098-9a2d-4d8e-f463-535eb4d1f3c8"
      },
      "outputs": [
        {
          "output_type": "stream",
          "name": "stdout",
          "text": [
            "<class 'pandas.core.frame.DataFrame'>\n",
            "RangeIndex: 4190783 entries, 0 to 4190782\n",
            "Data columns (total 21 columns):\n",
            " #   Column                               Dtype   \n",
            "---  ------                               -----   \n",
            " 0   state_code                           category\n",
            " 1   judge_position                       category\n",
            " 2   female_defendant                     category\n",
            " 3   female_petitioner                    category\n",
            " 4   female_adv_def                       category\n",
            " 5   female_adv_pet                       category\n",
            " 6   type_name                            category\n",
            " 7   date_of_filing                       object  \n",
            " 8   date_of_decision                     object  \n",
            " 9   act                                  category\n",
            " 10  section                              category\n",
            " 11  bailable_ipc                         category\n",
            " 12  number_sections_ipc                  category\n",
            " 13  criminal                             category\n",
            " 14  female_judge_filing                  category\n",
            " 15  female_judge_decision                category\n",
            " 16  pendency_decision_filing             int64   \n",
            " 17  pendency_decision_filing_categories  category\n",
            " 18  court_details                        object  \n",
            " 19  state_district                       object  \n",
            " 20  pendency_model_threeyear             category\n",
            "dtypes: category(16), int64(1), object(4)\n",
            "memory usage: 253.0+ MB\n"
          ]
        }
      ],
      "source": [
        "df_cases2010.info()"
      ]
    },
    {
      "cell_type": "code",
      "execution_count": null,
      "metadata": {
        "id": "ptL9G2n7c0F8"
      },
      "outputs": [],
      "source": [
        "y = df_cases2010[\"pendency_model_threeyear\"]"
      ]
    },
    {
      "cell_type": "code",
      "execution_count": null,
      "metadata": {
        "id": "xcuWn5xyd2tg"
      },
      "outputs": [],
      "source": [
        "col = pd.Categorical(y)\n",
        "y = pd.Series(col.codes)\n",
        "y_class = col.categories.tolist()"
      ]
    },
    {
      "cell_type": "code",
      "execution_count": null,
      "metadata": {
        "id": "VbHLc-owUxvK"
      },
      "outputs": [],
      "source": [
        "#We next drop the target variables from the feature matrix\n",
        "df_cases2010.drop(columns='pendency_decision_filing', axis=1, inplace=True)\n",
        "df_cases2010.drop(columns='pendency_decision_filing_categories', axis=1, inplace=True)\n",
        "df_cases2010.drop(columns='pendency_model_threeyear', axis=1, inplace=True)"
      ]
    },
    {
      "cell_type": "code",
      "execution_count": null,
      "metadata": {
        "id": "b5RIJA7TrpuJ"
      },
      "outputs": [],
      "source": [
        "# Lable Encode all Categorical Features\n",
        "le = LabelEncoder()\n",
        "cat_cols = df_cases2010.select_dtypes(include=['category']).columns\n",
        "df_cases2010[cat_cols] = df_cases2010[cat_cols].apply(lambda col: le.fit_transform(col))"
      ]
    },
    {
      "source": [
        "# Assuming you have a DataFrame named 'df_cases2010',\n",
        "# create a copy for calculating pendency\n",
        "df_with_dates = df_cases2010.copy()\n",
        "\n",
        "# Check if 'date_of_filing' and 'date_of_decision' are in the DataFrame\n",
        "if 'date_of_filing' in df_with_dates.columns and 'date_of_decision' in df_with_dates.columns:\n",
        "    # Calculate pendency as the difference between date_of_decision and date_of_filing\n",
        "    df_with_dates['date_of_filing'] = pd.to_datetime(df_with_dates['date_of_filing'])\n",
        "    df_with_dates['date_of_decision'] = pd.to_datetime(df_with_dates['date_of_decision'])\n",
        "    df_with_dates['pendency_days'] = (df_with_dates['date_of_decision'] - df_with_dates['date_of_filing']).dt.days\n",
        "\n",
        "    # Group by state and calculate the mean pendency\n",
        "    state_pendency = df_with_dates.groupby('state_code')['pendency_days'].mean().sort_values()\n",
        "\n",
        "    # Display states with the least pendency\n",
        "    print(\"States with the least pendency:\")\n",
        "    print(state_pendency.head(10))\n",
        "\n",
        "    # Display states with the most pendency\n",
        "    print(\"States with the most pendency:\")\n",
        "    print(state_pendency.tail(10))\n",
        "else:\n",
        "    print(\"Error: 'date_of_filing' or 'date_of_decision' not found in the DataFrame.\")"
      ],
      "cell_type": "code",
      "metadata": {
        "colab": {
          "base_uri": "https://localhost:8080/",
          "height": 338
        },
        "id": "J0Ueuv7xTUd4",
        "outputId": "13ac82b9-4014-4f74-ae52-7d8993ac519d"
      },
      "execution_count": null,
      "outputs": [
        {
          "output_type": "error",
          "ename": "ValueError",
          "evalue": "time data \"NA\" doesn't match format \"%Y-%m-%d %H:%M:%S%z\", at position 39. You might want to try:\n    - passing `format` if your strings have a consistent format;\n    - passing `format='ISO8601'` if your strings are all ISO8601 but not necessarily in exactly the same format;\n    - passing `format='mixed'`, and the format will be inferred for each element individually. You might want to use `dayfirst` alongside this.",
          "traceback": [
            "\u001b[0;31m---------------------------------------------------------------------------\u001b[0m",
            "\u001b[0;31mValueError\u001b[0m                                Traceback (most recent call last)",
            "\u001b[0;32m<ipython-input-25-410323eac8ce>\u001b[0m in \u001b[0;36m<cell line: 6>\u001b[0;34m()\u001b[0m\n\u001b[1;32m      7\u001b[0m     \u001b[0;31m# Calculate pendency as the difference between date_of_decision and date_of_filing\u001b[0m\u001b[0;34m\u001b[0m\u001b[0;34m\u001b[0m\u001b[0m\n\u001b[1;32m      8\u001b[0m     \u001b[0mdf_with_dates\u001b[0m\u001b[0;34m[\u001b[0m\u001b[0;34m'date_of_filing'\u001b[0m\u001b[0;34m]\u001b[0m \u001b[0;34m=\u001b[0m \u001b[0mpd\u001b[0m\u001b[0;34m.\u001b[0m\u001b[0mto_datetime\u001b[0m\u001b[0;34m(\u001b[0m\u001b[0mdf_with_dates\u001b[0m\u001b[0;34m[\u001b[0m\u001b[0;34m'date_of_filing'\u001b[0m\u001b[0;34m]\u001b[0m\u001b[0;34m)\u001b[0m\u001b[0;34m\u001b[0m\u001b[0;34m\u001b[0m\u001b[0m\n\u001b[0;32m----> 9\u001b[0;31m     \u001b[0mdf_with_dates\u001b[0m\u001b[0;34m[\u001b[0m\u001b[0;34m'date_of_decision'\u001b[0m\u001b[0;34m]\u001b[0m \u001b[0;34m=\u001b[0m \u001b[0mpd\u001b[0m\u001b[0;34m.\u001b[0m\u001b[0mto_datetime\u001b[0m\u001b[0;34m(\u001b[0m\u001b[0mdf_with_dates\u001b[0m\u001b[0;34m[\u001b[0m\u001b[0;34m'date_of_decision'\u001b[0m\u001b[0;34m]\u001b[0m\u001b[0;34m)\u001b[0m\u001b[0;34m\u001b[0m\u001b[0;34m\u001b[0m\u001b[0m\n\u001b[0m\u001b[1;32m     10\u001b[0m     \u001b[0mdf_with_dates\u001b[0m\u001b[0;34m[\u001b[0m\u001b[0;34m'pendency_days'\u001b[0m\u001b[0;34m]\u001b[0m \u001b[0;34m=\u001b[0m \u001b[0;34m(\u001b[0m\u001b[0mdf_with_dates\u001b[0m\u001b[0;34m[\u001b[0m\u001b[0;34m'date_of_decision'\u001b[0m\u001b[0;34m]\u001b[0m \u001b[0;34m-\u001b[0m \u001b[0mdf_with_dates\u001b[0m\u001b[0;34m[\u001b[0m\u001b[0;34m'date_of_filing'\u001b[0m\u001b[0;34m]\u001b[0m\u001b[0;34m)\u001b[0m\u001b[0;34m.\u001b[0m\u001b[0mdt\u001b[0m\u001b[0;34m.\u001b[0m\u001b[0mdays\u001b[0m\u001b[0;34m\u001b[0m\u001b[0;34m\u001b[0m\u001b[0m\n\u001b[1;32m     11\u001b[0m \u001b[0;34m\u001b[0m\u001b[0m\n",
            "\u001b[0;32m/usr/local/lib/python3.10/dist-packages/pandas/core/tools/datetimes.py\u001b[0m in \u001b[0;36mto_datetime\u001b[0;34m(arg, errors, dayfirst, yearfirst, utc, format, exact, unit, infer_datetime_format, origin, cache)\u001b[0m\n\u001b[1;32m   1048\u001b[0m             \u001b[0mresult\u001b[0m \u001b[0;34m=\u001b[0m \u001b[0marg\u001b[0m\u001b[0;34m.\u001b[0m\u001b[0mmap\u001b[0m\u001b[0;34m(\u001b[0m\u001b[0mcache_array\u001b[0m\u001b[0;34m)\u001b[0m\u001b[0;34m\u001b[0m\u001b[0;34m\u001b[0m\u001b[0m\n\u001b[1;32m   1049\u001b[0m         \u001b[0;32melse\u001b[0m\u001b[0;34m:\u001b[0m\u001b[0;34m\u001b[0m\u001b[0;34m\u001b[0m\u001b[0m\n\u001b[0;32m-> 1050\u001b[0;31m             \u001b[0mvalues\u001b[0m \u001b[0;34m=\u001b[0m \u001b[0mconvert_listlike\u001b[0m\u001b[0;34m(\u001b[0m\u001b[0marg\u001b[0m\u001b[0;34m.\u001b[0m\u001b[0m_values\u001b[0m\u001b[0;34m,\u001b[0m \u001b[0mformat\u001b[0m\u001b[0;34m)\u001b[0m\u001b[0;34m\u001b[0m\u001b[0;34m\u001b[0m\u001b[0m\n\u001b[0m\u001b[1;32m   1051\u001b[0m             \u001b[0mresult\u001b[0m \u001b[0;34m=\u001b[0m \u001b[0marg\u001b[0m\u001b[0;34m.\u001b[0m\u001b[0m_constructor\u001b[0m\u001b[0;34m(\u001b[0m\u001b[0mvalues\u001b[0m\u001b[0;34m,\u001b[0m \u001b[0mindex\u001b[0m\u001b[0;34m=\u001b[0m\u001b[0marg\u001b[0m\u001b[0;34m.\u001b[0m\u001b[0mindex\u001b[0m\u001b[0;34m,\u001b[0m \u001b[0mname\u001b[0m\u001b[0;34m=\u001b[0m\u001b[0marg\u001b[0m\u001b[0;34m.\u001b[0m\u001b[0mname\u001b[0m\u001b[0;34m)\u001b[0m\u001b[0;34m\u001b[0m\u001b[0;34m\u001b[0m\u001b[0m\n\u001b[1;32m   1052\u001b[0m     \u001b[0;32melif\u001b[0m \u001b[0misinstance\u001b[0m\u001b[0;34m(\u001b[0m\u001b[0marg\u001b[0m\u001b[0;34m,\u001b[0m \u001b[0;34m(\u001b[0m\u001b[0mABCDataFrame\u001b[0m\u001b[0;34m,\u001b[0m \u001b[0mabc\u001b[0m\u001b[0;34m.\u001b[0m\u001b[0mMutableMapping\u001b[0m\u001b[0;34m)\u001b[0m\u001b[0;34m)\u001b[0m\u001b[0;34m:\u001b[0m\u001b[0;34m\u001b[0m\u001b[0;34m\u001b[0m\u001b[0m\n",
            "\u001b[0;32m/usr/local/lib/python3.10/dist-packages/pandas/core/tools/datetimes.py\u001b[0m in \u001b[0;36m_convert_listlike_datetimes\u001b[0;34m(arg, format, name, utc, unit, errors, dayfirst, yearfirst, exact)\u001b[0m\n\u001b[1;32m    451\u001b[0m     \u001b[0;31m# `format` could be inferred, or user didn't ask for mixed-format parsing.\u001b[0m\u001b[0;34m\u001b[0m\u001b[0;34m\u001b[0m\u001b[0m\n\u001b[1;32m    452\u001b[0m     \u001b[0;32mif\u001b[0m \u001b[0mformat\u001b[0m \u001b[0;32mis\u001b[0m \u001b[0;32mnot\u001b[0m \u001b[0;32mNone\u001b[0m \u001b[0;32mand\u001b[0m \u001b[0mformat\u001b[0m \u001b[0;34m!=\u001b[0m \u001b[0;34m\"mixed\"\u001b[0m\u001b[0;34m:\u001b[0m\u001b[0;34m\u001b[0m\u001b[0;34m\u001b[0m\u001b[0m\n\u001b[0;32m--> 453\u001b[0;31m         \u001b[0;32mreturn\u001b[0m \u001b[0m_array_strptime_with_fallback\u001b[0m\u001b[0;34m(\u001b[0m\u001b[0marg\u001b[0m\u001b[0;34m,\u001b[0m \u001b[0mname\u001b[0m\u001b[0;34m,\u001b[0m \u001b[0mutc\u001b[0m\u001b[0;34m,\u001b[0m \u001b[0mformat\u001b[0m\u001b[0;34m,\u001b[0m \u001b[0mexact\u001b[0m\u001b[0;34m,\u001b[0m \u001b[0merrors\u001b[0m\u001b[0;34m)\u001b[0m\u001b[0;34m\u001b[0m\u001b[0;34m\u001b[0m\u001b[0m\n\u001b[0m\u001b[1;32m    454\u001b[0m \u001b[0;34m\u001b[0m\u001b[0m\n\u001b[1;32m    455\u001b[0m     result, tz_parsed = objects_to_datetime64ns(\n",
            "\u001b[0;32m/usr/local/lib/python3.10/dist-packages/pandas/core/tools/datetimes.py\u001b[0m in \u001b[0;36m_array_strptime_with_fallback\u001b[0;34m(arg, name, utc, fmt, exact, errors)\u001b[0m\n\u001b[1;32m    482\u001b[0m     \u001b[0mCall\u001b[0m \u001b[0marray_strptime\u001b[0m\u001b[0;34m,\u001b[0m \u001b[0;32mwith\u001b[0m \u001b[0mfallback\u001b[0m \u001b[0mbehavior\u001b[0m \u001b[0mdepending\u001b[0m \u001b[0mon\u001b[0m \u001b[0;34m'errors'\u001b[0m\u001b[0;34m.\u001b[0m\u001b[0;34m\u001b[0m\u001b[0;34m\u001b[0m\u001b[0m\n\u001b[1;32m    483\u001b[0m     \"\"\"\n\u001b[0;32m--> 484\u001b[0;31m     \u001b[0mresult\u001b[0m\u001b[0;34m,\u001b[0m \u001b[0mtimezones\u001b[0m \u001b[0;34m=\u001b[0m \u001b[0marray_strptime\u001b[0m\u001b[0;34m(\u001b[0m\u001b[0marg\u001b[0m\u001b[0;34m,\u001b[0m \u001b[0mfmt\u001b[0m\u001b[0;34m,\u001b[0m \u001b[0mexact\u001b[0m\u001b[0;34m=\u001b[0m\u001b[0mexact\u001b[0m\u001b[0;34m,\u001b[0m \u001b[0merrors\u001b[0m\u001b[0;34m=\u001b[0m\u001b[0merrors\u001b[0m\u001b[0;34m,\u001b[0m \u001b[0mutc\u001b[0m\u001b[0;34m=\u001b[0m\u001b[0mutc\u001b[0m\u001b[0;34m)\u001b[0m\u001b[0;34m\u001b[0m\u001b[0;34m\u001b[0m\u001b[0m\n\u001b[0m\u001b[1;32m    485\u001b[0m     \u001b[0;32mif\u001b[0m \u001b[0many\u001b[0m\u001b[0;34m(\u001b[0m\u001b[0mtz\u001b[0m \u001b[0;32mis\u001b[0m \u001b[0;32mnot\u001b[0m \u001b[0;32mNone\u001b[0m \u001b[0;32mfor\u001b[0m \u001b[0mtz\u001b[0m \u001b[0;32min\u001b[0m \u001b[0mtimezones\u001b[0m\u001b[0;34m)\u001b[0m\u001b[0;34m:\u001b[0m\u001b[0;34m\u001b[0m\u001b[0;34m\u001b[0m\u001b[0m\n\u001b[1;32m    486\u001b[0m         \u001b[0;32mreturn\u001b[0m \u001b[0m_return_parsed_timezone_results\u001b[0m\u001b[0;34m(\u001b[0m\u001b[0mresult\u001b[0m\u001b[0;34m,\u001b[0m \u001b[0mtimezones\u001b[0m\u001b[0;34m,\u001b[0m \u001b[0mutc\u001b[0m\u001b[0;34m,\u001b[0m \u001b[0mname\u001b[0m\u001b[0;34m)\u001b[0m\u001b[0;34m\u001b[0m\u001b[0;34m\u001b[0m\u001b[0m\n",
            "\u001b[0;32m/usr/local/lib/python3.10/dist-packages/pandas/_libs/tslibs/strptime.pyx\u001b[0m in \u001b[0;36mpandas._libs.tslibs.strptime.array_strptime\u001b[0;34m()\u001b[0m\n",
            "\u001b[0;32m/usr/local/lib/python3.10/dist-packages/pandas/_libs/tslibs/strptime.pyx\u001b[0m in \u001b[0;36mpandas._libs.tslibs.strptime.array_strptime\u001b[0;34m()\u001b[0m\n",
            "\u001b[0;31mValueError\u001b[0m: time data \"NA\" doesn't match format \"%Y-%m-%d %H:%M:%S%z\", at position 39. You might want to try:\n    - passing `format` if your strings have a consistent format;\n    - passing `format='ISO8601'` if your strings are all ISO8601 but not necessarily in exactly the same format;\n    - passing `format='mixed'`, and the format will be inferred for each element individually. You might want to use `dayfirst` alongside this."
          ]
        }
      ]
    },
    {
      "source": [
        "# Assuming you have a DataFrame named 'df_cases2010',\n",
        "# create a copy for calculating pendency\n",
        "df_with_dates = df_cases2010.copy()\n",
        "\n",
        "# Check if 'date_of_filing' and 'date_of_decision' are in the DataFrame\n",
        "if 'date_of_filing' in df_with_dates.columns and 'date_of_decision' in df_with_dates.columns:\n",
        "    # Calculate pendency as the difference between date_of_decision and date_of_filing\n",
        "    df_with_dates['date_of_filing'] = pd.to_datetime(df_with_dates['date_of_filing'])\n",
        "    df_with_dates['date_of_decision'] = pd.to_datetime(df_with_dates['date_of_decision'])\n",
        "    df_with_dates['pendency_days'] = (df_with_dates['date_of_decision'] - df_with_dates['date_of_filing']).dt.days\n",
        "\n",
        "    # Group by state and calculate the mean pendency\n",
        "    state_pendency = df_with_dates.groupby('state_code')['pendency_days'].mean().sort_values()\n",
        "\n",
        "    # Display states with the least pendency\n",
        "    print(\"States with the least pendency:\")\n",
        "    print(state_pendency.head(10))\n",
        "\n",
        "    # Display states with the most pendency\n",
        "    print(\"States with the most pendency:\")\n",
        "    print(state_pendency.tail(10))\n",
        "\n",
        "    # Bar plot for states with the least pendency\n",
        "    plt.figure(figsize=(10, 5))\n",
        "    sns.barplot(x=state_pendency.head(10).index, y=state_pendency.head(10).values, palette='viridis')\n",
        "    plt.title('Top 10 States with the Least Pendency')\n",
        "    plt.xlabel('State Code')\n",
        "    plt.ylabel('Average Pendency Days')\n",
        "    plt.show()\n",
        "\n",
        "    # Bar plot for states with the most pendency\n",
        "    plt.figure(figsize=(10, 5))\n",
        "    sns.barplot(x=state_pendency.tail(10).index, y=state_pendency.tail(10).values, palette='viridis')\n",
        "    plt.title('Top 10 States with the Most Pendency')\n",
        "    plt.xlabel('State Code')\n",
        "    plt.ylabel('Average Pendency Days')\n",
        "    plt.show()"
      ],
      "cell_type": "code",
      "metadata": {
        "id": "3P2T2SVWWtp8",
        "colab": {
          "base_uri": "https://localhost:8080/",
          "height": 1000
        },
        "outputId": "9b506d3d-b2e7-4a8a-977b-7516e77448ce"
      },
      "execution_count": null,
      "outputs": [
        {
          "output_type": "stream",
          "name": "stdout",
          "text": [
            "States with the least pendency:\n",
            "state_code\n",
            "30     474.437977\n",
            "3      709.704270\n",
            "26     748.865451\n",
            "1      845.259333\n",
            "4      849.867932\n",
            "23     866.276134\n",
            "31     928.602510\n",
            "24     933.279070\n",
            "19     950.193662\n",
            "20    1010.273604\n",
            "Name: pendency_days, dtype: float64\n",
            "States with the most pendency:\n",
            "state_code\n",
            "5     1418.281614\n",
            "12    1465.930175\n",
            "25    1572.080128\n",
            "13    1654.943751\n",
            "16    1695.721503\n",
            "9     1715.877863\n",
            "7     1833.538287\n",
            "11    1906.881953\n",
            "18    2078.473695\n",
            "8     2097.556645\n",
            "Name: pendency_days, dtype: float64\n"
          ]
        },
        {
          "output_type": "stream",
          "name": "stderr",
          "text": [
            "<ipython-input-34-a19c6326a3cf>:25: FutureWarning: \n",
            "\n",
            "Passing `palette` without assigning `hue` is deprecated and will be removed in v0.14.0. Assign the `x` variable to `hue` and set `legend=False` for the same effect.\n",
            "\n",
            "  sns.barplot(x=state_pendency.head(10).index, y=state_pendency.head(10).values, palette='viridis')\n"
          ]
        },
        {
          "output_type": "display_data",
          "data": {
            "text/plain": [
              "<Figure size 1000x500 with 1 Axes>"
            ],
            "image/png": "[encoded data removed]"
          },
          "metadata": {}
        },
        {
          "output_type": "stream",
          "name": "stderr",
          "text": [
            "<ipython-input-34-a19c6326a3cf>:33: FutureWarning: \n",
            "\n",
            "Passing `palette` without assigning `hue` is deprecated and will be removed in v0.14.0. Assign the `x` variable to `hue` and set `legend=False` for the same effect.\n",
            "\n",
            "  sns.barplot(x=state_pendency.tail(10).index, y=state_pendency.tail(10).values, palette='viridis')\n"
          ]
        },
        {
          "output_type": "display_data",
          "data": {
            "text/plain": [
              "<Figure size 1000x500 with 1 Axes>"
            ],
            "image/png": "[encoded data removed]"
          },
          "metadata": {}
        }
      ]
    },
    {
      "cell_type": "code",
      "source": [
        "# Assuming df_cases2010 is your DataFrame\n",
        "\n",
        "# Numerical representation of the data\n",
        "defendant_counts = df_cases2010['female_defendant'].value_counts()\n",
        "petitioner_counts = df_cases2010['female_petitioner'].value_counts()\n",
        "\n",
        "# Display numerical data\n",
        "print(\"Defendant counts:\")\n",
        "print(defendant_counts)\n",
        "print(\"\\nPetitioner counts:\")\n",
        "print(petitioner_counts)\n",
        "\n",
        "# Convert numerical values to categorical labels\n",
        "df_cases2010['defendant_gender'] = df_cases2010['female_defendant'].map({0: 'Male', 1: 'Female'})\n",
        "df_cases2010['petitioner_gender'] = df_cases2010['female_petitioner'].map({0: 'Male', 1: 'Female'})\n",
        "\n",
        "# Plotting the data\n",
        "plt.figure(figsize=(14, 6))\n",
        "\n",
        "# Plot for defendants\n",
        "plt.subplot(1, 2, 1)\n",
        "sns.countplot(data=df_cases2010, x='defendant_gender', palette='viridis')\n",
        "plt.title('Gender Distribution of Defendants')\n",
        "plt.xlabel('Gender')\n",
        "plt.ylabel('Count')\n",
        "\n",
        "# Plot for petitioners\n",
        "plt.subplot(1, 2, 2)\n",
        "sns.countplot(data=df_cases2010, x='petitioner_gender', palette='viridis')\n",
        "plt.title('Gender Distribution of Petitioners')\n",
        "plt.xlabel('Gender')\n",
        "plt.ylabel('Count')\n",
        "\n",
        "plt.tight_layout()\n",
        "plt.show()"
      ],
      "metadata": {
        "colab": {
          "base_uri": "https://localhost:8080/",
          "height": 1000
        },
        "id": "-jB1OjVKxA_4",
        "outputId": "4c1a6ce9-9878-46a1-c939-05fc4014fd06"
      },
      "execution_count": null,
      "outputs": [
        {
          "output_type": "stream",
          "name": "stdout",
          "text": [
            "Defendant counts:\n",
            "female_defendant\n",
            " 0       2857143\n",
            "-9998     776083\n",
            " 1        518260\n",
            "-9999      39297\n",
            "Name: count, dtype: int64\n",
            "\n",
            "Petitioner counts:\n",
            "female_petitioner\n",
            "-9998 unclear         1916729\n",
            "0 male                1607385\n",
            "1 female               645025\n",
            "-9999 missing name      21644\n",
            "Name: count, dtype: int64\n"
          ]
        },
        {
          "output_type": "stream",
          "name": "stderr",
          "text": [
            "<ipython-input-35-42776d850cf9>:22: FutureWarning: \n",
            "\n",
            "Passing `palette` without assigning `hue` is deprecated and will be removed in v0.14.0. Assign the `x` variable to `hue` and set `legend=False` for the same effect.\n",
            "\n",
            "  sns.countplot(data=df_cases2010, x='defendant_gender', palette='viridis')\n",
            "<ipython-input-35-42776d850cf9>:29: FutureWarning: \n",
            "\n",
            "Passing `palette` without assigning `hue` is deprecated and will be removed in v0.14.0. Assign the `x` variable to `hue` and set `legend=False` for the same effect.\n",
            "\n",
            "  sns.countplot(data=df_cases2010, x='petitioner_gender', palette='viridis')\n",
            "<ipython-input-35-42776d850cf9>:29: UserWarning: Ignoring `palette` because no `hue` variable has been assigned.\n",
            "  sns.countplot(data=df_cases2010, x='petitioner_gender', palette='viridis')\n"
          ]
        },
        {
          "output_type": "display_data",
          "data": {
            "text/plain": [
              "<Figure size 1400x600 with 2 Axes>"
            ],
            "image/png": "[encoded data removed]"
          },
          "metadata": {}
        }
      ]
    },
    {
      "cell_type": "code",
      "source": [
        "\n",
        "\n",
        "# Assuming you have a DataFrame named 'df_cases2010',\n",
        "# create a copy for calculating pendency\n",
        "df_with_dates = df_cases2010.copy()\n",
        "\n",
        "# Check if 'date_of_filing' and 'date_of_decision' are in the DataFrame\n",
        "if 'date_of_filing' in df_with_dates.columns and 'date_of_decision' in df_with_dates.columns:\n",
        "    # Calculate pendency as the difference between date_of_decision and date_of_filing\n",
        "    df_with_dates['date_of_filing'] = pd.to_datetime(df_with_dates['date_of_filing'])\n",
        "    df_with_dates['date_of_decision'] = pd.to_datetime(df_with_dates['date_of_decision'])\n",
        "    df_with_dates['pendency_days'] = (df_with_dates['date_of_decision'] - df_with_dates['date_of_filing']).dt.days\n",
        "\n",
        "    # Group by state and calculate the mean pendency\n",
        "    state_pendency_mean = df_with_dates.groupby('state_code')['pendency_days'].mean().sort_values()\n",
        "\n",
        "    # Display the mean pendency days state-wise\n",
        "    print(\"State-wise mean pendency days:\")\n",
        "    print(state_pendency_mean)\n",
        "\n",
        "    # Plotting the data\n",
        "    plt.figure(figsize=(14, 8))\n",
        "    sns.barplot(x=state_pendency_mean.index, y=state_pendency_mean.values, palette='viridis')\n",
        "    plt.title('State-wise Mean Pendency Days')\n",
        "    plt.xlabel('State Code')\n",
        "    plt.ylabel('Mean Pendency Days')\n",
        "    plt.xticks(rotation=90)\n",
        "    plt.show()"
      ],
      "metadata": {
        "colab": {
          "base_uri": "https://localhost:8080/"
        },
        "id": "0x_qUP1Px3Qe",
        "outputId": "651443f4-d70d-41aa-f641-03cf92f2f731"
      },
      "execution_count": null,
      "outputs": [
        {
          "output_type": "stream",
          "name": "stdout",
          "text": [
            "State-wise mean pendency days:\n",
            "state_code\n",
            "30     474.437977\n",
            "3      709.704270\n",
            "26     748.865451\n",
            "1      845.259333\n",
            "4      849.867932\n",
            "23     866.276134\n",
            "31     928.602510\n",
            "24     933.279070\n",
            "19     950.193662\n",
            "20    1010.273604\n",
            "2     1011.860829\n",
            "21    1018.754750\n",
            "15    1038.919248\n",
            "29    1099.885844\n",
            "14    1147.797124\n",
            "17    1148.973458\n",
            "27    1164.383868\n",
            "22    1260.714454\n",
            "6     1277.069936\n",
            "32    1280.523577\n",
            "10    1379.469705\n",
            "5     1418.281614\n",
            "12    1465.930175\n",
            "25    1572.080128\n",
            "13    1654.943751\n",
            "16    1695.721503\n",
            "9     1715.877863\n",
            "7     1833.538287\n",
            "11    1906.881953\n",
            "18    2078.473695\n",
            "8     2097.556645\n",
            "Name: pendency_days, dtype: float64\n"
          ]
        },
        {
          "output_type": "stream",
          "name": "stderr",
          "text": [
            "<ipython-input-37-2d7f93f7252b>:21: FutureWarning: \n",
            "\n",
            "Passing `palette` without assigning `hue` is deprecated and will be removed in v0.14.0. Assign the `x` variable to `hue` and set `legend=False` for the same effect.\n",
            "\n",
            "  sns.barplot(x=state_pendency_mean.index, y=state_pendency_mean.values, palette='viridis')\n"
          ]
        },
        {
          "output_type": "display_data",
          "data": {
            "text/plain": [
              "<Figure size 1400x800 with 1 Axes>"
            ],
            "image/png": "[encoded data removed]"
          },
          "metadata": {}
        }
      ]
    },
    {
      "cell_type": "markdown",
      "metadata": {
        "id": "XFhXMIMO8irw"
      },
      "source": [
        "## Model Building"
      ]
    },
    {
      "cell_type": "markdown",
      "metadata": {
        "id": "U5Rs5nkxxK4Z"
      },
      "source": [
        "### Train Test Split"
      ]
    },
    {
      "cell_type": "code",
      "execution_count": null,
      "metadata": {
        "id": "Q4PHacVZxKcU"
      },
      "outputs": [],
      "source": [
        "# Random seed\n",
        "seed =100\n",
        "# split-out train/validation and test dataset\n",
        "X_train, X_test, y_train, y_test = train_test_split(df_cases2010,  y, test_size=0.20, random_state=seed, shuffle=True, stratify=y)\n"
      ]
    },
    {
      "cell_type": "code",
      "execution_count": null,
      "metadata": {
        "id": "rsHsG0-x7f3O",
        "colab": {
          "base_uri": "https://localhost:8080/"
        },
        "outputId": "76575d1d-4dca-4d13-fd98-29059d8bcb08"
      },
      "outputs": [
        {
          "output_type": "stream",
          "name": "stdout",
          "text": [
            "4190783\n",
            "3352626\n",
            "838157\n",
            "4190783\n",
            "100.0\n"
          ]
        }
      ],
      "source": [
        "# Training and Test Data Size\n",
        "print(df_cases2010_orig.shape[0])\n",
        "print(X_train.shape[0])\n",
        "print(X_test.shape[0])\n",
        "print(X_test.shape[0]+X_train.shape[0])\n",
        "print((X_test.shape[0]+X_train.shape[0])/df_cases2010_orig.shape[0]*100)"
      ]
    },
    {
      "cell_type": "markdown",
      "metadata": {
        "id": "bTTMKnvApFKg"
      },
      "source": [
        "### Bagging Tree Classifiers"
      ]
    }
  ],
  "metadata": {
    "colab": {
      "machine_shape": "hm",
      "provenance": []
    },
    "gpuClass": "standard",
    "kernelspec": {
      "display_name": "Python 3 (ipykernel)",
      "language": "python",
      "name": "python3"
    },
    "language_info": {
      "codemirror_mode": {
        "name": "ipython",
        "version": 3
      },
      "file_extension": ".py",
      "mimetype": "text/x-python",
      "name": "python",
      "nbconvert_exporter": "python",
      "pygments_lexer": "ipython3",
      "version": "3.12.3"
    }
  },
  "nbformat": 4,
  "nbformat_minor": 0
}